{
 "cells": [
  {
   "cell_type": "code",
   "execution_count": 1,
   "id": "8724f606",
   "metadata": {},
   "outputs": [],
   "source": [
    "import pandas as pd\n",
    "import seaborn as sns"
   ]
  },
  {
   "cell_type": "code",
   "execution_count": 2,
   "id": "b6cc1a81",
   "metadata": {},
   "outputs": [
    {
     "data": {
      "text/html": [
       "<div>\n",
       "<style scoped>\n",
       "    .dataframe tbody tr th:only-of-type {\n",
       "        vertical-align: middle;\n",
       "    }\n",
       "\n",
       "    .dataframe tbody tr th {\n",
       "        vertical-align: top;\n",
       "    }\n",
       "\n",
       "    .dataframe thead th {\n",
       "        text-align: right;\n",
       "    }\n",
       "</style>\n",
       "<table border=\"1\" class=\"dataframe\">\n",
       "  <thead>\n",
       "    <tr style=\"text-align: right;\">\n",
       "      <th></th>\n",
       "      <th>customer_email</th>\n",
       "      <th>net_revenue</th>\n",
       "      <th>year</th>\n",
       "    </tr>\n",
       "  </thead>\n",
       "  <tbody>\n",
       "    <tr>\n",
       "      <th>0</th>\n",
       "      <td>nhknapwsbx@gmail.com</td>\n",
       "      <td>249.92</td>\n",
       "      <td>2015</td>\n",
       "    </tr>\n",
       "    <tr>\n",
       "      <th>1</th>\n",
       "      <td>joiuzbvcpn@gmail.com</td>\n",
       "      <td>87.61</td>\n",
       "      <td>2015</td>\n",
       "    </tr>\n",
       "    <tr>\n",
       "      <th>2</th>\n",
       "      <td>ukkjctepxt@gmail.com</td>\n",
       "      <td>168.38</td>\n",
       "      <td>2015</td>\n",
       "    </tr>\n",
       "    <tr>\n",
       "      <th>3</th>\n",
       "      <td>gykatilzrt@gmail.com</td>\n",
       "      <td>62.40</td>\n",
       "      <td>2015</td>\n",
       "    </tr>\n",
       "    <tr>\n",
       "      <th>4</th>\n",
       "      <td>mmsgsrtxah@gmail.com</td>\n",
       "      <td>43.08</td>\n",
       "      <td>2015</td>\n",
       "    </tr>\n",
       "    <tr>\n",
       "      <th>...</th>\n",
       "      <td>...</td>\n",
       "      <td>...</td>\n",
       "      <td>...</td>\n",
       "    </tr>\n",
       "    <tr>\n",
       "      <th>685922</th>\n",
       "      <td>qzqttwiftu@gmail.com</td>\n",
       "      <td>184.58</td>\n",
       "      <td>2017</td>\n",
       "    </tr>\n",
       "    <tr>\n",
       "      <th>685923</th>\n",
       "      <td>pjodiifjop@gmail.com</td>\n",
       "      <td>133.03</td>\n",
       "      <td>2017</td>\n",
       "    </tr>\n",
       "    <tr>\n",
       "      <th>685924</th>\n",
       "      <td>appaplmgko@gmail.com</td>\n",
       "      <td>200.98</td>\n",
       "      <td>2017</td>\n",
       "    </tr>\n",
       "    <tr>\n",
       "      <th>685925</th>\n",
       "      <td>wvkpmwsgck@gmail.com</td>\n",
       "      <td>235.35</td>\n",
       "      <td>2017</td>\n",
       "    </tr>\n",
       "    <tr>\n",
       "      <th>685926</th>\n",
       "      <td>aregboumbw@gmail.com</td>\n",
       "      <td>208.43</td>\n",
       "      <td>2017</td>\n",
       "    </tr>\n",
       "  </tbody>\n",
       "</table>\n",
       "<p>685927 rows × 3 columns</p>\n",
       "</div>"
      ],
      "text/plain": [
       "               customer_email  net_revenue  year\n",
       "0        nhknapwsbx@gmail.com       249.92  2015\n",
       "1        joiuzbvcpn@gmail.com        87.61  2015\n",
       "2        ukkjctepxt@gmail.com       168.38  2015\n",
       "3        gykatilzrt@gmail.com        62.40  2015\n",
       "4        mmsgsrtxah@gmail.com        43.08  2015\n",
       "...                       ...          ...   ...\n",
       "685922   qzqttwiftu@gmail.com       184.58  2017\n",
       "685923   pjodiifjop@gmail.com       133.03  2017\n",
       "685924   appaplmgko@gmail.com       200.98  2017\n",
       "685925   wvkpmwsgck@gmail.com       235.35  2017\n",
       "685926   aregboumbw@gmail.com       208.43  2017\n",
       "\n",
       "[685927 rows x 3 columns]"
      ]
     },
     "execution_count": 2,
     "metadata": {},
     "output_type": "execute_result"
    }
   ],
   "source": [
    "df = pd.read_csv('casestudy.csv', index_col=0)\n",
    "df"
   ]
  },
  {
   "cell_type": "code",
   "execution_count": 3,
   "id": "71b44cc9",
   "metadata": {},
   "outputs": [
    {
     "data": {
      "text/html": [
       "<div>\n",
       "<style scoped>\n",
       "    .dataframe tbody tr th:only-of-type {\n",
       "        vertical-align: middle;\n",
       "    }\n",
       "\n",
       "    .dataframe tbody tr th {\n",
       "        vertical-align: top;\n",
       "    }\n",
       "\n",
       "    .dataframe thead th {\n",
       "        text-align: right;\n",
       "    }\n",
       "</style>\n",
       "<table border=\"1\" class=\"dataframe\">\n",
       "  <thead>\n",
       "    <tr style=\"text-align: right;\">\n",
       "      <th></th>\n",
       "      <th>net_revenue</th>\n",
       "      <th>year</th>\n",
       "    </tr>\n",
       "  </thead>\n",
       "  <tbody>\n",
       "    <tr>\n",
       "      <th>count</th>\n",
       "      <td>685927.000000</td>\n",
       "      <td>685927.000000</td>\n",
       "    </tr>\n",
       "    <tr>\n",
       "      <th>mean</th>\n",
       "      <td>125.647755</td>\n",
       "      <td>2016.027252</td>\n",
       "    </tr>\n",
       "    <tr>\n",
       "      <th>std</th>\n",
       "      <td>71.854528</td>\n",
       "      <td>0.837203</td>\n",
       "    </tr>\n",
       "    <tr>\n",
       "      <th>min</th>\n",
       "      <td>1.000000</td>\n",
       "      <td>2015.000000</td>\n",
       "    </tr>\n",
       "    <tr>\n",
       "      <th>25%</th>\n",
       "      <td>63.510000</td>\n",
       "      <td>2015.000000</td>\n",
       "    </tr>\n",
       "    <tr>\n",
       "      <th>50%</th>\n",
       "      <td>125.730000</td>\n",
       "      <td>2016.000000</td>\n",
       "    </tr>\n",
       "    <tr>\n",
       "      <th>75%</th>\n",
       "      <td>187.820000</td>\n",
       "      <td>2017.000000</td>\n",
       "    </tr>\n",
       "    <tr>\n",
       "      <th>max</th>\n",
       "      <td>250.000000</td>\n",
       "      <td>2017.000000</td>\n",
       "    </tr>\n",
       "  </tbody>\n",
       "</table>\n",
       "</div>"
      ],
      "text/plain": [
       "         net_revenue           year\n",
       "count  685927.000000  685927.000000\n",
       "mean      125.647755    2016.027252\n",
       "std        71.854528       0.837203\n",
       "min         1.000000    2015.000000\n",
       "25%        63.510000    2015.000000\n",
       "50%       125.730000    2016.000000\n",
       "75%       187.820000    2017.000000\n",
       "max       250.000000    2017.000000"
      ]
     },
     "execution_count": 3,
     "metadata": {},
     "output_type": "execute_result"
    }
   ],
   "source": [
    "df.describe()"
   ]
  },
  {
   "cell_type": "code",
   "execution_count": 4,
   "id": "505f3ccd",
   "metadata": {},
   "outputs": [
    {
     "data": {
      "text/plain": [
       "customer_email    0\n",
       "net_revenue       0\n",
       "year              0\n",
       "dtype: int64"
      ]
     },
     "execution_count": 4,
     "metadata": {},
     "output_type": "execute_result"
    }
   ],
   "source": [
    "df.isnull().sum()"
   ]
  },
  {
   "cell_type": "code",
   "execution_count": 5,
   "id": "0c670424",
   "metadata": {},
   "outputs": [
    {
     "data": {
      "text/plain": [
       "2017    249987\n",
       "2015    231294\n",
       "2016    204646\n",
       "Name: year, dtype: int64"
      ]
     },
     "execution_count": 5,
     "metadata": {},
     "output_type": "execute_result"
    }
   ],
   "source": [
    "df.year.value_counts()"
   ]
  },
  {
   "cell_type": "markdown",
   "id": "4a3a9da2",
   "metadata": {},
   "source": [
    "## Total revenue for the current year"
   ]
  },
  {
   "cell_type": "code",
   "execution_count": 6,
   "id": "60fa616f",
   "metadata": {
    "scrolled": true
   },
   "outputs": [
    {
     "data": {
      "text/html": [
       "<div>\n",
       "<style scoped>\n",
       "    .dataframe tbody tr th:only-of-type {\n",
       "        vertical-align: middle;\n",
       "    }\n",
       "\n",
       "    .dataframe tbody tr th {\n",
       "        vertical-align: top;\n",
       "    }\n",
       "\n",
       "    .dataframe thead th {\n",
       "        text-align: right;\n",
       "    }\n",
       "</style>\n",
       "<table border=\"1\" class=\"dataframe\">\n",
       "  <thead>\n",
       "    <tr style=\"text-align: right;\">\n",
       "      <th></th>\n",
       "      <th>year</th>\n",
       "      <th>net_revenue</th>\n",
       "    </tr>\n",
       "  </thead>\n",
       "  <tbody>\n",
       "    <tr>\n",
       "      <th>0</th>\n",
       "      <td>2015</td>\n",
       "      <td>29036749.19</td>\n",
       "    </tr>\n",
       "    <tr>\n",
       "      <th>1</th>\n",
       "      <td>2016</td>\n",
       "      <td>25730943.59</td>\n",
       "    </tr>\n",
       "    <tr>\n",
       "      <th>2</th>\n",
       "      <td>2017</td>\n",
       "      <td>31417495.03</td>\n",
       "    </tr>\n",
       "  </tbody>\n",
       "</table>\n",
       "</div>"
      ],
      "text/plain": [
       "   year  net_revenue\n",
       "0  2015  29036749.19\n",
       "1  2016  25730943.59\n",
       "2  2017  31417495.03"
      ]
     },
     "execution_count": 6,
     "metadata": {},
     "output_type": "execute_result"
    }
   ],
   "source": [
    "rev_df = df.groupby('year')['net_revenue'].sum().reset_index()\n",
    "rev_df"
   ]
  },
  {
   "cell_type": "markdown",
   "id": "e4ab6447",
   "metadata": {},
   "source": [
    "## New Customer Revenue "
   ]
  },
  {
   "cell_type": "markdown",
   "id": "51dcb99b",
   "metadata": {},
   "source": [
    "### 2017"
   ]
  },
  {
   "cell_type": "code",
   "execution_count": 7,
   "id": "a4a37827",
   "metadata": {},
   "outputs": [],
   "source": [
    "cust_2016 = df[df[\"year\"]==2016]['customer_email'].to_frame()\n",
    "cust_2017 = df[df[\"year\"]==2017]['customer_email'].to_frame()"
   ]
  },
  {
   "cell_type": "code",
   "execution_count": 8,
   "id": "910ef9cd",
   "metadata": {},
   "outputs": [],
   "source": [
    "#fetch new customer list\n",
    "new_2017_cust_email = cust_2016.merge(cust_2017, how='outer', indicator=True).loc[lambda x : x['_merge']=='right_only'].customer_email.to_list()"
   ]
  },
  {
   "cell_type": "code",
   "execution_count": 9,
   "id": "9d56fb85",
   "metadata": {},
   "outputs": [],
   "source": [
    "new_2017_cust_df = df[(df['customer_email'].isin(new_2017_cust_email)) & (df['year'] == 2017)] "
   ]
  },
  {
   "cell_type": "code",
   "execution_count": 10,
   "id": "f8c5bfd5",
   "metadata": {},
   "outputs": [
    {
     "data": {
      "text/plain": [
       "28776235.039999995"
      ]
     },
     "execution_count": 10,
     "metadata": {},
     "output_type": "execute_result"
    }
   ],
   "source": [
    "#sum of new customer revenue\n",
    "new_2017_cust_df.net_revenue.sum()"
   ]
  },
  {
   "cell_type": "markdown",
   "id": "3be6979e",
   "metadata": {},
   "source": [
    "### 2016"
   ]
  },
  {
   "cell_type": "code",
   "execution_count": 11,
   "id": "3b77ca0e",
   "metadata": {},
   "outputs": [
    {
     "data": {
      "text/plain": [
       "18245491.01"
      ]
     },
     "execution_count": 11,
     "metadata": {},
     "output_type": "execute_result"
    }
   ],
   "source": [
    "cust_2015 = df[df[\"year\"]==2015]['customer_email'].to_frame()\n",
    "new_2016_cust_email = cust_2015.merge(cust_2016, how='outer', indicator=True).loc[lambda x : x['_merge']=='right_only'].customer_email.to_list()\n",
    "new_2016_cust_df = df[(df['customer_email'].isin(new_2016_cust_email)) & (df['year'] == 2016)] \n",
    "new_2016_cust_df.net_revenue.sum()"
   ]
  },
  {
   "cell_type": "markdown",
   "id": "bedf0cd0",
   "metadata": {},
   "source": [
    "## Revenue lost from attrition"
   ]
  },
  {
   "cell_type": "markdown",
   "id": "d7a7f26c",
   "metadata": {},
   "source": [
    "### 2017"
   ]
  },
  {
   "cell_type": "code",
   "execution_count": 12,
   "id": "404d6de8",
   "metadata": {},
   "outputs": [],
   "source": [
    "#fetch lost customer list\n",
    "lost_2017_cust_email = cust_2017.merge(cust_2016, how='outer', indicator=True).loc[lambda x : x['_merge']=='right_only'].customer_email.to_list()"
   ]
  },
  {
   "cell_type": "code",
   "execution_count": 13,
   "id": "53d231ca",
   "metadata": {},
   "outputs": [],
   "source": [
    "lost_2017_cust_df = df[(df['customer_email'].isin(lost_2017_cust_email)) & (df['year'] == 2016)] "
   ]
  },
  {
   "cell_type": "code",
   "execution_count": 14,
   "id": "0fe4bfad",
   "metadata": {},
   "outputs": [
    {
     "data": {
      "text/plain": [
       "23110294.939999998"
      ]
     },
     "execution_count": 14,
     "metadata": {},
     "output_type": "execute_result"
    }
   ],
   "source": [
    "#sum of lost customer revenue(lost from 2016 to 2017)\n",
    "lost_2017_cust_df.net_revenue.sum()"
   ]
  },
  {
   "cell_type": "markdown",
   "id": "63875e9c",
   "metadata": {},
   "source": [
    "### 2016"
   ]
  },
  {
   "cell_type": "code",
   "execution_count": 15,
   "id": "97966eda",
   "metadata": {},
   "outputs": [
    {
     "data": {
      "text/plain": [
       "21571632.070000004"
      ]
     },
     "execution_count": 15,
     "metadata": {},
     "output_type": "execute_result"
    }
   ],
   "source": [
    "lost_2016_cust_email = cust_2016.merge(cust_2015, how='outer', indicator=True).loc[lambda x : x['_merge']=='right_only'].customer_email.to_list()\n",
    "lost_2016_cust_df = df[(df['customer_email'].isin(lost_2016_cust_email)) & (df['year'] == 2015)] \n",
    "lost_2016_cust_df.net_revenue.sum()"
   ]
  },
  {
   "cell_type": "markdown",
   "id": "31dd0b8b",
   "metadata": {},
   "source": [
    "## Existing Customer Revenue Current Year"
   ]
  },
  {
   "cell_type": "markdown",
   "id": "d5af44b8",
   "metadata": {},
   "source": [
    "### 2017"
   ]
  },
  {
   "cell_type": "code",
   "execution_count": 16,
   "id": "f74cfacc",
   "metadata": {},
   "outputs": [],
   "source": [
    "exist_2017_cust = cust_2017.merge(cust_2016,how='inner', indicator=False).customer_email.to_list() "
   ]
  },
  {
   "cell_type": "code",
   "execution_count": 17,
   "id": "56f16d13",
   "metadata": {},
   "outputs": [],
   "source": [
    "exist_2017_cust_df = df[(df['customer_email'].isin(exist_2017_cust)) & (df['year'] == 2017)]"
   ]
  },
  {
   "cell_type": "code",
   "execution_count": 18,
   "id": "33598392",
   "metadata": {},
   "outputs": [
    {
     "data": {
      "text/plain": [
       "2641259.99"
      ]
     },
     "execution_count": 18,
     "metadata": {},
     "output_type": "execute_result"
    }
   ],
   "source": [
    "exist_2017_cust_df.net_revenue.sum()"
   ]
  },
  {
   "cell_type": "markdown",
   "id": "f7fb63d1",
   "metadata": {},
   "source": [
    "### 2016"
   ]
  },
  {
   "cell_type": "code",
   "execution_count": 19,
   "id": "ba5596bc",
   "metadata": {},
   "outputs": [
    {
     "data": {
      "text/plain": [
       "7485452.58"
      ]
     },
     "execution_count": 19,
     "metadata": {},
     "output_type": "execute_result"
    }
   ],
   "source": [
    "exist_2016_cust = cust_2016.merge(cust_2015,how='inner', indicator=False).customer_email.to_list() \n",
    "exist_2016_cust_df = df[(df['customer_email'].isin(exist_2016_cust)) & (df['year'] == 2016)]\n",
    "exist_2016_cust_df.net_revenue.sum()"
   ]
  },
  {
   "cell_type": "markdown",
   "id": "0753f829",
   "metadata": {},
   "source": [
    "## Existing Customer Revenue Prior Year"
   ]
  },
  {
   "cell_type": "markdown",
   "id": "64653dfb",
   "metadata": {},
   "source": [
    "### 2017"
   ]
  },
  {
   "cell_type": "code",
   "execution_count": 20,
   "id": "cd49feb1",
   "metadata": {},
   "outputs": [
    {
     "data": {
      "text/plain": [
       "7485452.58"
      ]
     },
     "execution_count": 20,
     "metadata": {},
     "output_type": "execute_result"
    }
   ],
   "source": [
    "exist_2016_cust_df.net_revenue.sum()"
   ]
  },
  {
   "cell_type": "markdown",
   "id": "a3c8f8c9",
   "metadata": {},
   "source": [
    "## Existing Customer Growth"
   ]
  },
  {
   "cell_type": "markdown",
   "id": "be89652d",
   "metadata": {},
   "source": [
    "### 2017 - 2016"
   ]
  },
  {
   "cell_type": "code",
   "execution_count": 21,
   "id": "fb018e5e",
   "metadata": {},
   "outputs": [
    {
     "data": {
      "text/plain": [
       "-4844192.59"
      ]
     },
     "execution_count": 21,
     "metadata": {},
     "output_type": "execute_result"
    }
   ],
   "source": [
    "exist_2017_cust_df.net_revenue.sum() - exist_2016_cust_df.net_revenue.sum()\n",
    "\n",
    "#Aren't able to get existing customer during 2015"
   ]
  },
  {
   "cell_type": "markdown",
   "id": "ae29b3c5",
   "metadata": {},
   "source": [
    "## Total Customers Current Year"
   ]
  },
  {
   "cell_type": "markdown",
   "id": "e74e2af2",
   "metadata": {},
   "source": [
    "### 2017"
   ]
  },
  {
   "cell_type": "code",
   "execution_count": 22,
   "id": "c38cd022",
   "metadata": {},
   "outputs": [
    {
     "data": {
      "text/html": [
       "<div>\n",
       "<style scoped>\n",
       "    .dataframe tbody tr th:only-of-type {\n",
       "        vertical-align: middle;\n",
       "    }\n",
       "\n",
       "    .dataframe tbody tr th {\n",
       "        vertical-align: top;\n",
       "    }\n",
       "\n",
       "    .dataframe thead th {\n",
       "        text-align: right;\n",
       "    }\n",
       "</style>\n",
       "<table border=\"1\" class=\"dataframe\">\n",
       "  <thead>\n",
       "    <tr style=\"text-align: right;\">\n",
       "      <th></th>\n",
       "      <th>customer_email</th>\n",
       "    </tr>\n",
       "  </thead>\n",
       "  <tbody>\n",
       "    <tr>\n",
       "      <th>435940</th>\n",
       "      <td>mwrossuukz@gmail.com</td>\n",
       "    </tr>\n",
       "    <tr>\n",
       "      <th>435941</th>\n",
       "      <td>qvjfterwnk@gmail.com</td>\n",
       "    </tr>\n",
       "    <tr>\n",
       "      <th>435942</th>\n",
       "      <td>vlyigtgfzs@gmail.com</td>\n",
       "    </tr>\n",
       "    <tr>\n",
       "      <th>435943</th>\n",
       "      <td>yfirychuhk@gmail.com</td>\n",
       "    </tr>\n",
       "    <tr>\n",
       "      <th>435944</th>\n",
       "      <td>fdkiioqtli@gmail.com</td>\n",
       "    </tr>\n",
       "    <tr>\n",
       "      <th>...</th>\n",
       "      <td>...</td>\n",
       "    </tr>\n",
       "    <tr>\n",
       "      <th>685922</th>\n",
       "      <td>qzqttwiftu@gmail.com</td>\n",
       "    </tr>\n",
       "    <tr>\n",
       "      <th>685923</th>\n",
       "      <td>pjodiifjop@gmail.com</td>\n",
       "    </tr>\n",
       "    <tr>\n",
       "      <th>685924</th>\n",
       "      <td>appaplmgko@gmail.com</td>\n",
       "    </tr>\n",
       "    <tr>\n",
       "      <th>685925</th>\n",
       "      <td>wvkpmwsgck@gmail.com</td>\n",
       "    </tr>\n",
       "    <tr>\n",
       "      <th>685926</th>\n",
       "      <td>aregboumbw@gmail.com</td>\n",
       "    </tr>\n",
       "  </tbody>\n",
       "</table>\n",
       "<p>249987 rows × 1 columns</p>\n",
       "</div>"
      ],
      "text/plain": [
       "               customer_email\n",
       "435940   mwrossuukz@gmail.com\n",
       "435941  qvjfterwnk@gmail.com \n",
       "435942   vlyigtgfzs@gmail.com\n",
       "435943   yfirychuhk@gmail.com\n",
       "435944   fdkiioqtli@gmail.com\n",
       "...                       ...\n",
       "685922   qzqttwiftu@gmail.com\n",
       "685923   pjodiifjop@gmail.com\n",
       "685924   appaplmgko@gmail.com\n",
       "685925   wvkpmwsgck@gmail.com\n",
       "685926   aregboumbw@gmail.com\n",
       "\n",
       "[249987 rows x 1 columns]"
      ]
     },
     "execution_count": 22,
     "metadata": {},
     "output_type": "execute_result"
    }
   ],
   "source": [
    "cust_2017"
   ]
  },
  {
   "cell_type": "markdown",
   "id": "c6c3ee94",
   "metadata": {},
   "source": [
    "### 2016"
   ]
  },
  {
   "cell_type": "code",
   "execution_count": 23,
   "id": "4a403d94",
   "metadata": {},
   "outputs": [
    {
     "data": {
      "text/html": [
       "<div>\n",
       "<style scoped>\n",
       "    .dataframe tbody tr th:only-of-type {\n",
       "        vertical-align: middle;\n",
       "    }\n",
       "\n",
       "    .dataframe tbody tr th {\n",
       "        vertical-align: top;\n",
       "    }\n",
       "\n",
       "    .dataframe thead th {\n",
       "        text-align: right;\n",
       "    }\n",
       "</style>\n",
       "<table border=\"1\" class=\"dataframe\">\n",
       "  <thead>\n",
       "    <tr style=\"text-align: right;\">\n",
       "      <th></th>\n",
       "      <th>customer_email</th>\n",
       "    </tr>\n",
       "  </thead>\n",
       "  <tbody>\n",
       "    <tr>\n",
       "      <th>231294</th>\n",
       "      <td>mwrossuukz@gmail.com</td>\n",
       "    </tr>\n",
       "    <tr>\n",
       "      <th>231295</th>\n",
       "      <td>gkwsoupawk@gmail.com</td>\n",
       "    </tr>\n",
       "    <tr>\n",
       "      <th>231296</th>\n",
       "      <td>vlyigtgfzs@gmail.com</td>\n",
       "    </tr>\n",
       "    <tr>\n",
       "      <th>231297</th>\n",
       "      <td>yfirychuhk@gmail.com</td>\n",
       "    </tr>\n",
       "    <tr>\n",
       "      <th>231298</th>\n",
       "      <td>trnzgqinuu@gmail.com</td>\n",
       "    </tr>\n",
       "    <tr>\n",
       "      <th>...</th>\n",
       "      <td>...</td>\n",
       "    </tr>\n",
       "    <tr>\n",
       "      <th>435935</th>\n",
       "      <td>mezrjfkced@gmail.com</td>\n",
       "    </tr>\n",
       "    <tr>\n",
       "      <th>435936</th>\n",
       "      <td>rdotspqdxi@gmail.com</td>\n",
       "    </tr>\n",
       "    <tr>\n",
       "      <th>435937</th>\n",
       "      <td>fkweqlmmjw@gmail.com</td>\n",
       "    </tr>\n",
       "    <tr>\n",
       "      <th>435938</th>\n",
       "      <td>pidugzoeej@gmail.com</td>\n",
       "    </tr>\n",
       "    <tr>\n",
       "      <th>435939</th>\n",
       "      <td>kxqglfdktu@gmail.com</td>\n",
       "    </tr>\n",
       "  </tbody>\n",
       "</table>\n",
       "<p>204646 rows × 1 columns</p>\n",
       "</div>"
      ],
      "text/plain": [
       "               customer_email\n",
       "231294   mwrossuukz@gmail.com\n",
       "231295   gkwsoupawk@gmail.com\n",
       "231296   vlyigtgfzs@gmail.com\n",
       "231297   yfirychuhk@gmail.com\n",
       "231298   trnzgqinuu@gmail.com\n",
       "...                       ...\n",
       "435935   mezrjfkced@gmail.com\n",
       "435936   rdotspqdxi@gmail.com\n",
       "435937   fkweqlmmjw@gmail.com\n",
       "435938   pidugzoeej@gmail.com\n",
       "435939   kxqglfdktu@gmail.com\n",
       "\n",
       "[204646 rows x 1 columns]"
      ]
     },
     "execution_count": 23,
     "metadata": {},
     "output_type": "execute_result"
    }
   ],
   "source": [
    "cust_2016"
   ]
  },
  {
   "cell_type": "markdown",
   "id": "de3c04cf",
   "metadata": {},
   "source": [
    "### 2015"
   ]
  },
  {
   "cell_type": "code",
   "execution_count": 24,
   "id": "8ba3e421",
   "metadata": {},
   "outputs": [
    {
     "data": {
      "text/html": [
       "<div>\n",
       "<style scoped>\n",
       "    .dataframe tbody tr th:only-of-type {\n",
       "        vertical-align: middle;\n",
       "    }\n",
       "\n",
       "    .dataframe tbody tr th {\n",
       "        vertical-align: top;\n",
       "    }\n",
       "\n",
       "    .dataframe thead th {\n",
       "        text-align: right;\n",
       "    }\n",
       "</style>\n",
       "<table border=\"1\" class=\"dataframe\">\n",
       "  <thead>\n",
       "    <tr style=\"text-align: right;\">\n",
       "      <th></th>\n",
       "      <th>customer_email</th>\n",
       "    </tr>\n",
       "  </thead>\n",
       "  <tbody>\n",
       "    <tr>\n",
       "      <th>0</th>\n",
       "      <td>nhknapwsbx@gmail.com</td>\n",
       "    </tr>\n",
       "    <tr>\n",
       "      <th>1</th>\n",
       "      <td>joiuzbvcpn@gmail.com</td>\n",
       "    </tr>\n",
       "    <tr>\n",
       "      <th>2</th>\n",
       "      <td>ukkjctepxt@gmail.com</td>\n",
       "    </tr>\n",
       "    <tr>\n",
       "      <th>3</th>\n",
       "      <td>gykatilzrt@gmail.com</td>\n",
       "    </tr>\n",
       "    <tr>\n",
       "      <th>4</th>\n",
       "      <td>mmsgsrtxah@gmail.com</td>\n",
       "    </tr>\n",
       "    <tr>\n",
       "      <th>...</th>\n",
       "      <td>...</td>\n",
       "    </tr>\n",
       "    <tr>\n",
       "      <th>231289</th>\n",
       "      <td>xtrpmgjbwp@gmail.com</td>\n",
       "    </tr>\n",
       "    <tr>\n",
       "      <th>231290</th>\n",
       "      <td>peeorxpsbr@gmail.com</td>\n",
       "    </tr>\n",
       "    <tr>\n",
       "      <th>231291</th>\n",
       "      <td>vanasezjpw@gmail.com</td>\n",
       "    </tr>\n",
       "    <tr>\n",
       "      <th>231292</th>\n",
       "      <td>dnpremlztb@gmail.com</td>\n",
       "    </tr>\n",
       "    <tr>\n",
       "      <th>231293</th>\n",
       "      <td>qsgswrpycl@gmail.com</td>\n",
       "    </tr>\n",
       "  </tbody>\n",
       "</table>\n",
       "<p>231294 rows × 1 columns</p>\n",
       "</div>"
      ],
      "text/plain": [
       "               customer_email\n",
       "0        nhknapwsbx@gmail.com\n",
       "1        joiuzbvcpn@gmail.com\n",
       "2        ukkjctepxt@gmail.com\n",
       "3        gykatilzrt@gmail.com\n",
       "4        mmsgsrtxah@gmail.com\n",
       "...                       ...\n",
       "231289   xtrpmgjbwp@gmail.com\n",
       "231290   peeorxpsbr@gmail.com\n",
       "231291   vanasezjpw@gmail.com\n",
       "231292   dnpremlztb@gmail.com\n",
       "231293   qsgswrpycl@gmail.com\n",
       "\n",
       "[231294 rows x 1 columns]"
      ]
     },
     "execution_count": 24,
     "metadata": {},
     "output_type": "execute_result"
    }
   ],
   "source": [
    "cust_2015"
   ]
  },
  {
   "cell_type": "markdown",
   "id": "b44da1e6",
   "metadata": {},
   "source": [
    "## Total Customers Previous Year"
   ]
  },
  {
   "cell_type": "markdown",
   "id": "90afb128",
   "metadata": {},
   "source": [
    "### 2017"
   ]
  },
  {
   "cell_type": "code",
   "execution_count": 25,
   "id": "2c7cf1d1",
   "metadata": {},
   "outputs": [
    {
     "data": {
      "text/html": [
       "<div>\n",
       "<style scoped>\n",
       "    .dataframe tbody tr th:only-of-type {\n",
       "        vertical-align: middle;\n",
       "    }\n",
       "\n",
       "    .dataframe tbody tr th {\n",
       "        vertical-align: top;\n",
       "    }\n",
       "\n",
       "    .dataframe thead th {\n",
       "        text-align: right;\n",
       "    }\n",
       "</style>\n",
       "<table border=\"1\" class=\"dataframe\">\n",
       "  <thead>\n",
       "    <tr style=\"text-align: right;\">\n",
       "      <th></th>\n",
       "      <th>customer_email</th>\n",
       "    </tr>\n",
       "  </thead>\n",
       "  <tbody>\n",
       "    <tr>\n",
       "      <th>231294</th>\n",
       "      <td>mwrossuukz@gmail.com</td>\n",
       "    </tr>\n",
       "    <tr>\n",
       "      <th>231295</th>\n",
       "      <td>gkwsoupawk@gmail.com</td>\n",
       "    </tr>\n",
       "    <tr>\n",
       "      <th>231296</th>\n",
       "      <td>vlyigtgfzs@gmail.com</td>\n",
       "    </tr>\n",
       "    <tr>\n",
       "      <th>231297</th>\n",
       "      <td>yfirychuhk@gmail.com</td>\n",
       "    </tr>\n",
       "    <tr>\n",
       "      <th>231298</th>\n",
       "      <td>trnzgqinuu@gmail.com</td>\n",
       "    </tr>\n",
       "    <tr>\n",
       "      <th>...</th>\n",
       "      <td>...</td>\n",
       "    </tr>\n",
       "    <tr>\n",
       "      <th>435935</th>\n",
       "      <td>mezrjfkced@gmail.com</td>\n",
       "    </tr>\n",
       "    <tr>\n",
       "      <th>435936</th>\n",
       "      <td>rdotspqdxi@gmail.com</td>\n",
       "    </tr>\n",
       "    <tr>\n",
       "      <th>435937</th>\n",
       "      <td>fkweqlmmjw@gmail.com</td>\n",
       "    </tr>\n",
       "    <tr>\n",
       "      <th>435938</th>\n",
       "      <td>pidugzoeej@gmail.com</td>\n",
       "    </tr>\n",
       "    <tr>\n",
       "      <th>435939</th>\n",
       "      <td>kxqglfdktu@gmail.com</td>\n",
       "    </tr>\n",
       "  </tbody>\n",
       "</table>\n",
       "<p>204646 rows × 1 columns</p>\n",
       "</div>"
      ],
      "text/plain": [
       "               customer_email\n",
       "231294   mwrossuukz@gmail.com\n",
       "231295   gkwsoupawk@gmail.com\n",
       "231296   vlyigtgfzs@gmail.com\n",
       "231297   yfirychuhk@gmail.com\n",
       "231298   trnzgqinuu@gmail.com\n",
       "...                       ...\n",
       "435935   mezrjfkced@gmail.com\n",
       "435936   rdotspqdxi@gmail.com\n",
       "435937   fkweqlmmjw@gmail.com\n",
       "435938   pidugzoeej@gmail.com\n",
       "435939   kxqglfdktu@gmail.com\n",
       "\n",
       "[204646 rows x 1 columns]"
      ]
     },
     "execution_count": 25,
     "metadata": {},
     "output_type": "execute_result"
    }
   ],
   "source": [
    "cust_2016"
   ]
  },
  {
   "cell_type": "markdown",
   "id": "9f6a3c83",
   "metadata": {},
   "source": [
    "### 2016"
   ]
  },
  {
   "cell_type": "code",
   "execution_count": 26,
   "id": "53585bda",
   "metadata": {},
   "outputs": [
    {
     "data": {
      "text/html": [
       "<div>\n",
       "<style scoped>\n",
       "    .dataframe tbody tr th:only-of-type {\n",
       "        vertical-align: middle;\n",
       "    }\n",
       "\n",
       "    .dataframe tbody tr th {\n",
       "        vertical-align: top;\n",
       "    }\n",
       "\n",
       "    .dataframe thead th {\n",
       "        text-align: right;\n",
       "    }\n",
       "</style>\n",
       "<table border=\"1\" class=\"dataframe\">\n",
       "  <thead>\n",
       "    <tr style=\"text-align: right;\">\n",
       "      <th></th>\n",
       "      <th>customer_email</th>\n",
       "    </tr>\n",
       "  </thead>\n",
       "  <tbody>\n",
       "    <tr>\n",
       "      <th>0</th>\n",
       "      <td>nhknapwsbx@gmail.com</td>\n",
       "    </tr>\n",
       "    <tr>\n",
       "      <th>1</th>\n",
       "      <td>joiuzbvcpn@gmail.com</td>\n",
       "    </tr>\n",
       "    <tr>\n",
       "      <th>2</th>\n",
       "      <td>ukkjctepxt@gmail.com</td>\n",
       "    </tr>\n",
       "    <tr>\n",
       "      <th>3</th>\n",
       "      <td>gykatilzrt@gmail.com</td>\n",
       "    </tr>\n",
       "    <tr>\n",
       "      <th>4</th>\n",
       "      <td>mmsgsrtxah@gmail.com</td>\n",
       "    </tr>\n",
       "    <tr>\n",
       "      <th>...</th>\n",
       "      <td>...</td>\n",
       "    </tr>\n",
       "    <tr>\n",
       "      <th>231289</th>\n",
       "      <td>xtrpmgjbwp@gmail.com</td>\n",
       "    </tr>\n",
       "    <tr>\n",
       "      <th>231290</th>\n",
       "      <td>peeorxpsbr@gmail.com</td>\n",
       "    </tr>\n",
       "    <tr>\n",
       "      <th>231291</th>\n",
       "      <td>vanasezjpw@gmail.com</td>\n",
       "    </tr>\n",
       "    <tr>\n",
       "      <th>231292</th>\n",
       "      <td>dnpremlztb@gmail.com</td>\n",
       "    </tr>\n",
       "    <tr>\n",
       "      <th>231293</th>\n",
       "      <td>qsgswrpycl@gmail.com</td>\n",
       "    </tr>\n",
       "  </tbody>\n",
       "</table>\n",
       "<p>231294 rows × 1 columns</p>\n",
       "</div>"
      ],
      "text/plain": [
       "               customer_email\n",
       "0        nhknapwsbx@gmail.com\n",
       "1        joiuzbvcpn@gmail.com\n",
       "2        ukkjctepxt@gmail.com\n",
       "3        gykatilzrt@gmail.com\n",
       "4        mmsgsrtxah@gmail.com\n",
       "...                       ...\n",
       "231289   xtrpmgjbwp@gmail.com\n",
       "231290   peeorxpsbr@gmail.com\n",
       "231291   vanasezjpw@gmail.com\n",
       "231292   dnpremlztb@gmail.com\n",
       "231293   qsgswrpycl@gmail.com\n",
       "\n",
       "[231294 rows x 1 columns]"
      ]
     },
     "execution_count": 26,
     "metadata": {},
     "output_type": "execute_result"
    }
   ],
   "source": [
    "cust_2015"
   ]
  },
  {
   "cell_type": "markdown",
   "id": "af0469a8",
   "metadata": {},
   "source": [
    "## New Customers"
   ]
  },
  {
   "cell_type": "markdown",
   "id": "22f187f4",
   "metadata": {},
   "source": [
    "### 2017"
   ]
  },
  {
   "cell_type": "code",
   "execution_count": 27,
   "id": "ed27034a",
   "metadata": {},
   "outputs": [
    {
     "data": {
      "text/html": [
       "<div>\n",
       "<style scoped>\n",
       "    .dataframe tbody tr th:only-of-type {\n",
       "        vertical-align: middle;\n",
       "    }\n",
       "\n",
       "    .dataframe tbody tr th {\n",
       "        vertical-align: top;\n",
       "    }\n",
       "\n",
       "    .dataframe thead th {\n",
       "        text-align: right;\n",
       "    }\n",
       "</style>\n",
       "<table border=\"1\" class=\"dataframe\">\n",
       "  <thead>\n",
       "    <tr style=\"text-align: right;\">\n",
       "      <th></th>\n",
       "      <th>customer_email</th>\n",
       "    </tr>\n",
       "  </thead>\n",
       "  <tbody>\n",
       "    <tr>\n",
       "      <th>435940</th>\n",
       "      <td>mwrossuukz@gmail.com</td>\n",
       "    </tr>\n",
       "    <tr>\n",
       "      <th>435941</th>\n",
       "      <td>qvjfterwnk@gmail.com</td>\n",
       "    </tr>\n",
       "    <tr>\n",
       "      <th>435942</th>\n",
       "      <td>vlyigtgfzs@gmail.com</td>\n",
       "    </tr>\n",
       "    <tr>\n",
       "      <th>435943</th>\n",
       "      <td>yfirychuhk@gmail.com</td>\n",
       "    </tr>\n",
       "    <tr>\n",
       "      <th>435944</th>\n",
       "      <td>fdkiioqtli@gmail.com</td>\n",
       "    </tr>\n",
       "    <tr>\n",
       "      <th>...</th>\n",
       "      <td>...</td>\n",
       "    </tr>\n",
       "    <tr>\n",
       "      <th>685922</th>\n",
       "      <td>qzqttwiftu@gmail.com</td>\n",
       "    </tr>\n",
       "    <tr>\n",
       "      <th>685923</th>\n",
       "      <td>pjodiifjop@gmail.com</td>\n",
       "    </tr>\n",
       "    <tr>\n",
       "      <th>685924</th>\n",
       "      <td>appaplmgko@gmail.com</td>\n",
       "    </tr>\n",
       "    <tr>\n",
       "      <th>685925</th>\n",
       "      <td>wvkpmwsgck@gmail.com</td>\n",
       "    </tr>\n",
       "    <tr>\n",
       "      <th>685926</th>\n",
       "      <td>aregboumbw@gmail.com</td>\n",
       "    </tr>\n",
       "  </tbody>\n",
       "</table>\n",
       "<p>229028 rows × 1 columns</p>\n",
       "</div>"
      ],
      "text/plain": [
       "               customer_email\n",
       "435940   mwrossuukz@gmail.com\n",
       "435941  qvjfterwnk@gmail.com \n",
       "435942   vlyigtgfzs@gmail.com\n",
       "435943   yfirychuhk@gmail.com\n",
       "435944   fdkiioqtli@gmail.com\n",
       "...                       ...\n",
       "685922   qzqttwiftu@gmail.com\n",
       "685923   pjodiifjop@gmail.com\n",
       "685924   appaplmgko@gmail.com\n",
       "685925   wvkpmwsgck@gmail.com\n",
       "685926   aregboumbw@gmail.com\n",
       "\n",
       "[229028 rows x 1 columns]"
      ]
     },
     "execution_count": 27,
     "metadata": {},
     "output_type": "execute_result"
    }
   ],
   "source": [
    "new_2017_cust_df['customer_email'].to_frame()"
   ]
  },
  {
   "cell_type": "markdown",
   "id": "3290c122",
   "metadata": {},
   "source": [
    "### 2016"
   ]
  },
  {
   "cell_type": "code",
   "execution_count": 28,
   "id": "1eb3cfdd",
   "metadata": {},
   "outputs": [
    {
     "data": {
      "text/html": [
       "<div>\n",
       "<style scoped>\n",
       "    .dataframe tbody tr th:only-of-type {\n",
       "        vertical-align: middle;\n",
       "    }\n",
       "\n",
       "    .dataframe tbody tr th {\n",
       "        vertical-align: top;\n",
       "    }\n",
       "\n",
       "    .dataframe thead th {\n",
       "        text-align: right;\n",
       "    }\n",
       "</style>\n",
       "<table border=\"1\" class=\"dataframe\">\n",
       "  <thead>\n",
       "    <tr style=\"text-align: right;\">\n",
       "      <th></th>\n",
       "      <th>customer_email</th>\n",
       "    </tr>\n",
       "  </thead>\n",
       "  <tbody>\n",
       "    <tr>\n",
       "      <th>231294</th>\n",
       "      <td>mwrossuukz@gmail.com</td>\n",
       "    </tr>\n",
       "    <tr>\n",
       "      <th>231295</th>\n",
       "      <td>gkwsoupawk@gmail.com</td>\n",
       "    </tr>\n",
       "    <tr>\n",
       "      <th>231296</th>\n",
       "      <td>vlyigtgfzs@gmail.com</td>\n",
       "    </tr>\n",
       "    <tr>\n",
       "      <th>231297</th>\n",
       "      <td>yfirychuhk@gmail.com</td>\n",
       "    </tr>\n",
       "    <tr>\n",
       "      <th>231298</th>\n",
       "      <td>trnzgqinuu@gmail.com</td>\n",
       "    </tr>\n",
       "    <tr>\n",
       "      <th>...</th>\n",
       "      <td>...</td>\n",
       "    </tr>\n",
       "    <tr>\n",
       "      <th>435933</th>\n",
       "      <td>sqodpufunf@gmail.com</td>\n",
       "    </tr>\n",
       "    <tr>\n",
       "      <th>435934</th>\n",
       "      <td>dcakqgznnm@gmail.com</td>\n",
       "    </tr>\n",
       "    <tr>\n",
       "      <th>435936</th>\n",
       "      <td>rdotspqdxi@gmail.com</td>\n",
       "    </tr>\n",
       "    <tr>\n",
       "      <th>435937</th>\n",
       "      <td>fkweqlmmjw@gmail.com</td>\n",
       "    </tr>\n",
       "    <tr>\n",
       "      <th>435938</th>\n",
       "      <td>pidugzoeej@gmail.com</td>\n",
       "    </tr>\n",
       "  </tbody>\n",
       "</table>\n",
       "<p>145062 rows × 1 columns</p>\n",
       "</div>"
      ],
      "text/plain": [
       "               customer_email\n",
       "231294   mwrossuukz@gmail.com\n",
       "231295   gkwsoupawk@gmail.com\n",
       "231296   vlyigtgfzs@gmail.com\n",
       "231297   yfirychuhk@gmail.com\n",
       "231298   trnzgqinuu@gmail.com\n",
       "...                       ...\n",
       "435933   sqodpufunf@gmail.com\n",
       "435934   dcakqgznnm@gmail.com\n",
       "435936   rdotspqdxi@gmail.com\n",
       "435937   fkweqlmmjw@gmail.com\n",
       "435938   pidugzoeej@gmail.com\n",
       "\n",
       "[145062 rows x 1 columns]"
      ]
     },
     "execution_count": 28,
     "metadata": {},
     "output_type": "execute_result"
    }
   ],
   "source": [
    "new_2016_cust_df['customer_email'].to_frame()"
   ]
  },
  {
   "cell_type": "markdown",
   "id": "4831c282",
   "metadata": {},
   "source": [
    "## Lost Customers"
   ]
  },
  {
   "cell_type": "markdown",
   "id": "5e704ca9",
   "metadata": {},
   "source": [
    "### 2017"
   ]
  },
  {
   "cell_type": "code",
   "execution_count": 29,
   "id": "abf3c4df",
   "metadata": {},
   "outputs": [
    {
     "data": {
      "text/html": [
       "<div>\n",
       "<style scoped>\n",
       "    .dataframe tbody tr th:only-of-type {\n",
       "        vertical-align: middle;\n",
       "    }\n",
       "\n",
       "    .dataframe tbody tr th {\n",
       "        vertical-align: top;\n",
       "    }\n",
       "\n",
       "    .dataframe thead th {\n",
       "        text-align: right;\n",
       "    }\n",
       "</style>\n",
       "<table border=\"1\" class=\"dataframe\">\n",
       "  <thead>\n",
       "    <tr style=\"text-align: right;\">\n",
       "      <th></th>\n",
       "      <th>customer_email</th>\n",
       "    </tr>\n",
       "  </thead>\n",
       "  <tbody>\n",
       "    <tr>\n",
       "      <th>231294</th>\n",
       "      <td>mwrossuukz@gmail.com</td>\n",
       "    </tr>\n",
       "    <tr>\n",
       "      <th>231295</th>\n",
       "      <td>gkwsoupawk@gmail.com</td>\n",
       "    </tr>\n",
       "    <tr>\n",
       "      <th>231296</th>\n",
       "      <td>vlyigtgfzs@gmail.com</td>\n",
       "    </tr>\n",
       "    <tr>\n",
       "      <th>231297</th>\n",
       "      <td>yfirychuhk@gmail.com</td>\n",
       "    </tr>\n",
       "    <tr>\n",
       "      <th>231298</th>\n",
       "      <td>trnzgqinuu@gmail.com</td>\n",
       "    </tr>\n",
       "    <tr>\n",
       "      <th>...</th>\n",
       "      <td>...</td>\n",
       "    </tr>\n",
       "    <tr>\n",
       "      <th>435933</th>\n",
       "      <td>sqodpufunf@gmail.com</td>\n",
       "    </tr>\n",
       "    <tr>\n",
       "      <th>435935</th>\n",
       "      <td>mezrjfkced@gmail.com</td>\n",
       "    </tr>\n",
       "    <tr>\n",
       "      <th>435936</th>\n",
       "      <td>rdotspqdxi@gmail.com</td>\n",
       "    </tr>\n",
       "    <tr>\n",
       "      <th>435938</th>\n",
       "      <td>pidugzoeej@gmail.com</td>\n",
       "    </tr>\n",
       "    <tr>\n",
       "      <th>435939</th>\n",
       "      <td>kxqglfdktu@gmail.com</td>\n",
       "    </tr>\n",
       "  </tbody>\n",
       "</table>\n",
       "<p>183687 rows × 1 columns</p>\n",
       "</div>"
      ],
      "text/plain": [
       "               customer_email\n",
       "231294   mwrossuukz@gmail.com\n",
       "231295   gkwsoupawk@gmail.com\n",
       "231296   vlyigtgfzs@gmail.com\n",
       "231297   yfirychuhk@gmail.com\n",
       "231298   trnzgqinuu@gmail.com\n",
       "...                       ...\n",
       "435933   sqodpufunf@gmail.com\n",
       "435935   mezrjfkced@gmail.com\n",
       "435936   rdotspqdxi@gmail.com\n",
       "435938   pidugzoeej@gmail.com\n",
       "435939   kxqglfdktu@gmail.com\n",
       "\n",
       "[183687 rows x 1 columns]"
      ]
     },
     "execution_count": 29,
     "metadata": {},
     "output_type": "execute_result"
    }
   ],
   "source": [
    "lost_2017_cust_df['customer_email'].to_frame()"
   ]
  },
  {
   "cell_type": "markdown",
   "id": "7729b464",
   "metadata": {},
   "source": [
    "### 2016"
   ]
  },
  {
   "cell_type": "code",
   "execution_count": 30,
   "id": "a4de05a8",
   "metadata": {},
   "outputs": [
    {
     "data": {
      "text/html": [
       "<div>\n",
       "<style scoped>\n",
       "    .dataframe tbody tr th:only-of-type {\n",
       "        vertical-align: middle;\n",
       "    }\n",
       "\n",
       "    .dataframe tbody tr th {\n",
       "        vertical-align: top;\n",
       "    }\n",
       "\n",
       "    .dataframe thead th {\n",
       "        text-align: right;\n",
       "    }\n",
       "</style>\n",
       "<table border=\"1\" class=\"dataframe\">\n",
       "  <thead>\n",
       "    <tr style=\"text-align: right;\">\n",
       "      <th></th>\n",
       "      <th>customer_email</th>\n",
       "    </tr>\n",
       "  </thead>\n",
       "  <tbody>\n",
       "    <tr>\n",
       "      <th>0</th>\n",
       "      <td>nhknapwsbx@gmail.com</td>\n",
       "    </tr>\n",
       "    <tr>\n",
       "      <th>1</th>\n",
       "      <td>joiuzbvcpn@gmail.com</td>\n",
       "    </tr>\n",
       "    <tr>\n",
       "      <th>2</th>\n",
       "      <td>ukkjctepxt@gmail.com</td>\n",
       "    </tr>\n",
       "    <tr>\n",
       "      <th>3</th>\n",
       "      <td>gykatilzrt@gmail.com</td>\n",
       "    </tr>\n",
       "    <tr>\n",
       "      <th>4</th>\n",
       "      <td>mmsgsrtxah@gmail.com</td>\n",
       "    </tr>\n",
       "    <tr>\n",
       "      <th>...</th>\n",
       "      <td>...</td>\n",
       "    </tr>\n",
       "    <tr>\n",
       "      <th>231289</th>\n",
       "      <td>xtrpmgjbwp@gmail.com</td>\n",
       "    </tr>\n",
       "    <tr>\n",
       "      <th>231290</th>\n",
       "      <td>peeorxpsbr@gmail.com</td>\n",
       "    </tr>\n",
       "    <tr>\n",
       "      <th>231291</th>\n",
       "      <td>vanasezjpw@gmail.com</td>\n",
       "    </tr>\n",
       "    <tr>\n",
       "      <th>231292</th>\n",
       "      <td>dnpremlztb@gmail.com</td>\n",
       "    </tr>\n",
       "    <tr>\n",
       "      <th>231293</th>\n",
       "      <td>qsgswrpycl@gmail.com</td>\n",
       "    </tr>\n",
       "  </tbody>\n",
       "</table>\n",
       "<p>171710 rows × 1 columns</p>\n",
       "</div>"
      ],
      "text/plain": [
       "               customer_email\n",
       "0        nhknapwsbx@gmail.com\n",
       "1        joiuzbvcpn@gmail.com\n",
       "2        ukkjctepxt@gmail.com\n",
       "3        gykatilzrt@gmail.com\n",
       "4        mmsgsrtxah@gmail.com\n",
       "...                       ...\n",
       "231289   xtrpmgjbwp@gmail.com\n",
       "231290   peeorxpsbr@gmail.com\n",
       "231291   vanasezjpw@gmail.com\n",
       "231292   dnpremlztb@gmail.com\n",
       "231293   qsgswrpycl@gmail.com\n",
       "\n",
       "[171710 rows x 1 columns]"
      ]
     },
     "execution_count": 30,
     "metadata": {},
     "output_type": "execute_result"
    }
   ],
   "source": [
    "lost_2016_cust_df['customer_email'].to_frame()"
   ]
  },
  {
   "cell_type": "markdown",
   "id": "b201b76a",
   "metadata": {},
   "source": [
    "# EDA"
   ]
  },
  {
   "cell_type": "code",
   "execution_count": 31,
   "id": "af0d2b4e",
   "metadata": {},
   "outputs": [],
   "source": [
    "import seaborn as sns\n",
    "import matplotlib.pyplot as plt"
   ]
  },
  {
   "cell_type": "code",
   "execution_count": 32,
   "id": "29c05156",
   "metadata": {},
   "outputs": [
    {
     "data": {
      "text/plain": [
       "(         net_revenue      year\n",
       " count  231294.000000  231294.0\n",
       " mean      125.540434    2015.0\n",
       " std        71.793027       0.0\n",
       " min         1.000000    2015.0\n",
       " 25%        63.430000    2015.0\n",
       " 50%       125.655000    2015.0\n",
       " 75%       187.560000    2015.0\n",
       " max       250.000000    2015.0,\n",
       "          net_revenue      year\n",
       " count  204646.000000  204646.0\n",
       " mean      125.733919    2016.0\n",
       " std        71.838149       0.0\n",
       " min         1.000000    2016.0\n",
       " 25%        63.722500    2016.0\n",
       " 50%       125.760000    2016.0\n",
       " 75%       187.890000    2016.0\n",
       " max       250.000000    2016.0,\n",
       "          net_revenue      year\n",
       " count  249987.000000  249987.0\n",
       " mean      125.676515    2017.0\n",
       " std        71.924943       0.0\n",
       " min         1.000000    2017.0\n",
       " 25%        63.390000    2017.0\n",
       " 50%       125.810000    2017.0\n",
       " 75%       187.970000    2017.0\n",
       " max       250.000000    2017.0)"
      ]
     },
     "execution_count": 32,
     "metadata": {},
     "output_type": "execute_result"
    }
   ],
   "source": [
    "df_2015 = df[df['year'] == 2015]\n",
    "df_2016 = df[df['year'] == 2016]\n",
    "df_2017 = df[df['year'] == 2017]\n",
    "df_2015.describe(),df_2016.describe(),df_2017.describe()"
   ]
  },
  {
   "cell_type": "code",
   "execution_count": 33,
   "id": "99ddb9a6",
   "metadata": {},
   "outputs": [
    {
     "name": "stderr",
     "output_type": "stream",
     "text": [
      "/Users/xulehao/opt/anaconda3/lib/python3.8/site-packages/seaborn/distributions.py:2557: FutureWarning: `distplot` is a deprecated function and will be removed in a future version. Please adapt your code to use either `displot` (a figure-level function with similar flexibility) or `histplot` (an axes-level function for histograms).\n",
      "  warnings.warn(msg, FutureWarning)\n",
      "/Users/xulehao/opt/anaconda3/lib/python3.8/site-packages/seaborn/distributions.py:2557: FutureWarning: `distplot` is a deprecated function and will be removed in a future version. Please adapt your code to use either `displot` (a figure-level function with similar flexibility) or `histplot` (an axes-level function for histograms).\n",
      "  warnings.warn(msg, FutureWarning)\n",
      "/Users/xulehao/opt/anaconda3/lib/python3.8/site-packages/seaborn/distributions.py:2557: FutureWarning: `distplot` is a deprecated function and will be removed in a future version. Please adapt your code to use either `displot` (a figure-level function with similar flexibility) or `histplot` (an axes-level function for histograms).\n",
      "  warnings.warn(msg, FutureWarning)\n"
     ]
    },
    {
     "data": {
      "text/plain": [
       "<AxesSubplot:xlabel='year', ylabel='net_revenue'>"
      ]
     },
     "execution_count": 33,
     "metadata": {},
     "output_type": "execute_result"
    },
    {
     "data": {
      "image/png": "[encoded data removed]",
      "text/plain": [
       "<Figure size 1152x216 with 4 Axes>"
      ]
     },
     "metadata": {
      "needs_background": "light"
     },
     "output_type": "display_data"
    }
   ],
   "source": [
    "fig,axes=plt.subplots(figsize=(16,3), nrows=1, ncols=4)\n",
    "df_2015 = df[df['year'] == 2015]\n",
    "df_2016 = df[df['year'] == 2016]\n",
    "df_2017 = df[df['year'] == 2017]\n",
    "sns.distplot(df_2015['net_revenue'], ax=axes[0])\n",
    "sns.distplot(df_2016['net_revenue'], ax=axes[1])\n",
    "sns.distplot(df_2017['net_revenue'], ax=axes[2])\n",
    "sns.boxplot(x=\"year\", y=\"net_revenue\", data=df, ax=axes[3])\n",
    "#The distribution of each year is similar"
   ]
  },
  {
   "cell_type": "code",
   "execution_count": 34,
   "id": "096e24c9",
   "metadata": {},
   "outputs": [
    {
     "name": "stderr",
     "output_type": "stream",
     "text": [
      "<ipython-input-34-36f8212c143d>:14: SettingWithCopyWarning: \n",
      "A value is trying to be set on a copy of a slice from a DataFrame\n",
      "\n",
      "See the caveats in the documentation: https://pandas.pydata.org/pandas-docs/stable/user_guide/indexing.html#returning-a-view-versus-a-copy\n",
      "  lost_cust['year'][0] = 2017\n",
      "<ipython-input-34-36f8212c143d>:15: SettingWithCopyWarning: \n",
      "A value is trying to be set on a copy of a slice from a DataFrame\n",
      "\n",
      "See the caveats in the documentation: https://pandas.pydata.org/pandas-docs/stable/user_guide/indexing.html#returning-a-view-versus-a-copy\n",
      "  lost_cust['year'][1] = 2016\n"
     ]
    },
    {
     "data": {
      "text/html": [
       "<div>\n",
       "<style scoped>\n",
       "    .dataframe tbody tr th:only-of-type {\n",
       "        vertical-align: middle;\n",
       "    }\n",
       "\n",
       "    .dataframe tbody tr th {\n",
       "        vertical-align: top;\n",
       "    }\n",
       "\n",
       "    .dataframe thead th {\n",
       "        text-align: right;\n",
       "    }\n",
       "</style>\n",
       "<table border=\"1\" class=\"dataframe\">\n",
       "  <thead>\n",
       "    <tr style=\"text-align: right;\">\n",
       "      <th></th>\n",
       "      <th>year</th>\n",
       "      <th>lost_customer_nums</th>\n",
       "      <th>lost_net_revenue</th>\n",
       "    </tr>\n",
       "  </thead>\n",
       "  <tbody>\n",
       "    <tr>\n",
       "      <th>0</th>\n",
       "      <td>2017</td>\n",
       "      <td>183687</td>\n",
       "      <td>23110294.94</td>\n",
       "    </tr>\n",
       "    <tr>\n",
       "      <th>1</th>\n",
       "      <td>2016</td>\n",
       "      <td>171710</td>\n",
       "      <td>21571632.07</td>\n",
       "    </tr>\n",
       "  </tbody>\n",
       "</table>\n",
       "</div>"
      ],
      "text/plain": [
       "   year  lost_customer_nums  lost_net_revenue\n",
       "0  2017              183687       23110294.94\n",
       "1  2016              171710       21571632.07"
      ]
     },
     "execution_count": 34,
     "metadata": {},
     "output_type": "execute_result"
    }
   ],
   "source": [
    "#attrtion\n",
    "lost_2017_cust = lost_2017_cust_df.year.value_counts().to_frame().rename(columns={\"year\":\"lost_customer_nums\"}).reset_index()\n",
    "lost_2017_cust = lost_2017_cust.sort_values(by=['index'])\n",
    "lost_2017_cust = lost_2017_cust.rename(columns={\"index\":\"year\"}).reset_index(drop=True)\n",
    "lost_2017_cust['net_revenue'] = lost_2017_cust_df.net_revenue.sum()\n",
    "\n",
    "lost_2016_cust = lost_2016_cust_df.year.value_counts().to_frame().rename(columns={\"year\":\"lost_customer_nums\"}).reset_index()\n",
    "lost_2016_cust = lost_2016_cust.sort_values(by=['index'])\n",
    "lost_2016_cust = lost_2016_cust.rename(columns={\"index\":\"year\"}).reset_index(drop=True)\n",
    "lost_2016_cust['net_revenue'] = lost_2016_cust_df.net_revenue.sum()\n",
    "\n",
    "lost_cust = lost_2017_cust.merge(lost_2016_cust,how=\"outer\")\n",
    "lost_cust = lost_cust.rename(columns={\"net_revenue\":\"lost_net_revenue\"})\n",
    "lost_cust['year'][0] = 2017\n",
    "lost_cust['year'][1] = 2016\n",
    "lost_cust"
   ]
  },
  {
   "cell_type": "code",
   "execution_count": 35,
   "id": "698aef78",
   "metadata": {},
   "outputs": [
    {
     "data": {
      "text/html": [
       "<div>\n",
       "<style scoped>\n",
       "    .dataframe tbody tr th:only-of-type {\n",
       "        vertical-align: middle;\n",
       "    }\n",
       "\n",
       "    .dataframe tbody tr th {\n",
       "        vertical-align: top;\n",
       "    }\n",
       "\n",
       "    .dataframe thead th {\n",
       "        text-align: right;\n",
       "    }\n",
       "</style>\n",
       "<table border=\"1\" class=\"dataframe\">\n",
       "  <thead>\n",
       "    <tr style=\"text-align: right;\">\n",
       "      <th></th>\n",
       "      <th>year</th>\n",
       "      <th>new_customer_nums</th>\n",
       "      <th>new_net_revenue</th>\n",
       "    </tr>\n",
       "  </thead>\n",
       "  <tbody>\n",
       "    <tr>\n",
       "      <th>0</th>\n",
       "      <td>2017</td>\n",
       "      <td>229028</td>\n",
       "      <td>28776235.04</td>\n",
       "    </tr>\n",
       "    <tr>\n",
       "      <th>1</th>\n",
       "      <td>2016</td>\n",
       "      <td>145062</td>\n",
       "      <td>18245491.01</td>\n",
       "    </tr>\n",
       "  </tbody>\n",
       "</table>\n",
       "</div>"
      ],
      "text/plain": [
       "   year  new_customer_nums  new_net_revenue\n",
       "0  2017             229028      28776235.04\n",
       "1  2016             145062      18245491.01"
      ]
     },
     "execution_count": 35,
     "metadata": {},
     "output_type": "execute_result"
    }
   ],
   "source": [
    "#new customer\n",
    "new_2017_cust = new_2017_cust_df.year.value_counts().to_frame().rename(columns={\"year\":\"new_customer_nums\"}).reset_index()\n",
    "new_2017_cust = new_2017_cust.sort_values(by=['index'])\n",
    "new_2017_cust = new_2017_cust.rename(columns={\"index\":\"year\"}).reset_index(drop=True)\n",
    "new_2017_cust['net_revenue'] = new_2017_cust_df.net_revenue.sum()\n",
    "\n",
    "new_2016_cust = new_2016_cust_df.year.value_counts().to_frame().rename(columns={\"year\":\"new_customer_nums\"}).reset_index()\n",
    "new_2016_cust = new_2016_cust.sort_values(by=['index'])\n",
    "new_2016_cust = new_2016_cust.rename(columns={\"index\":\"year\"}).reset_index(drop=True)\n",
    "new_2016_cust['net_revenue'] = new_2016_cust_df.net_revenue.sum()\n",
    "\n",
    "new_cust = new_2017_cust.merge(new_2016_cust,how=\"outer\")\n",
    "new_cust = new_cust.rename(columns={\"net_revenue\":\"new_net_revenue\"})\n",
    "new_cust\n"
   ]
  },
  {
   "cell_type": "code",
   "execution_count": 36,
   "id": "33697da3",
   "metadata": {},
   "outputs": [
    {
     "data": {
      "text/html": [
       "<div>\n",
       "<style scoped>\n",
       "    .dataframe tbody tr th:only-of-type {\n",
       "        vertical-align: middle;\n",
       "    }\n",
       "\n",
       "    .dataframe tbody tr th {\n",
       "        vertical-align: top;\n",
       "    }\n",
       "\n",
       "    .dataframe thead th {\n",
       "        text-align: right;\n",
       "    }\n",
       "</style>\n",
       "<table border=\"1\" class=\"dataframe\">\n",
       "  <thead>\n",
       "    <tr style=\"text-align: right;\">\n",
       "      <th></th>\n",
       "      <th>year</th>\n",
       "      <th>exist_customer_nums</th>\n",
       "      <th>exist_net_revenue</th>\n",
       "    </tr>\n",
       "  </thead>\n",
       "  <tbody>\n",
       "    <tr>\n",
       "      <th>0</th>\n",
       "      <td>2017</td>\n",
       "      <td>20959</td>\n",
       "      <td>2641259.99</td>\n",
       "    </tr>\n",
       "    <tr>\n",
       "      <th>1</th>\n",
       "      <td>2016</td>\n",
       "      <td>59584</td>\n",
       "      <td>7485452.58</td>\n",
       "    </tr>\n",
       "  </tbody>\n",
       "</table>\n",
       "</div>"
      ],
      "text/plain": [
       "   year  exist_customer_nums  exist_net_revenue\n",
       "0  2017                20959         2641259.99\n",
       "1  2016                59584         7485452.58"
      ]
     },
     "execution_count": 36,
     "metadata": {},
     "output_type": "execute_result"
    }
   ],
   "source": [
    "#exist customer\n",
    "exist_2017_cust = exist_2017_cust_df.year.value_counts().to_frame().rename(columns={\"year\":\"exist_customer_nums\"}).reset_index()\n",
    "exist_2017_cust = exist_2017_cust.sort_values(by=['index'])\n",
    "exist_2017_cust = exist_2017_cust.rename(columns={\"index\":\"year\"}).reset_index(drop=True)\n",
    "exist_2017_cust['net_revenue'] = exist_2017_cust_df.net_revenue.sum()\n",
    "\n",
    "exist_2016_cust = exist_2016_cust_df.year.value_counts().to_frame().rename(columns={\"year\":\"exist_customer_nums\"}).reset_index()\n",
    "exist_2016_cust = exist_2016_cust.sort_values(by=['index'])\n",
    "exist_2016_cust = exist_2016_cust.rename(columns={\"index\":\"year\"}).reset_index(drop=True)\n",
    "exist_2016_cust['net_revenue'] = exist_2016_cust_df.net_revenue.sum()\n",
    "\n",
    "exist_cust = exist_2017_cust.merge(exist_2016_cust,how=\"outer\")\n",
    "exist_cust = exist_cust.rename(columns={\"net_revenue\":\"exist_net_revenue\"})\n",
    "exist_cust\n"
   ]
  },
  {
   "cell_type": "code",
   "execution_count": 37,
   "id": "8cf8436a",
   "metadata": {},
   "outputs": [
    {
     "data": {
      "text/html": [
       "<div>\n",
       "<style scoped>\n",
       "    .dataframe tbody tr th:only-of-type {\n",
       "        vertical-align: middle;\n",
       "    }\n",
       "\n",
       "    .dataframe tbody tr th {\n",
       "        vertical-align: top;\n",
       "    }\n",
       "\n",
       "    .dataframe thead th {\n",
       "        text-align: right;\n",
       "    }\n",
       "</style>\n",
       "<table border=\"1\" class=\"dataframe\">\n",
       "  <thead>\n",
       "    <tr style=\"text-align: right;\">\n",
       "      <th></th>\n",
       "      <th>year</th>\n",
       "      <th>customer_nums</th>\n",
       "      <th>net_revenue</th>\n",
       "    </tr>\n",
       "  </thead>\n",
       "  <tbody>\n",
       "    <tr>\n",
       "      <th>0</th>\n",
       "      <td>2015</td>\n",
       "      <td>231294</td>\n",
       "      <td>29036749.19</td>\n",
       "    </tr>\n",
       "    <tr>\n",
       "      <th>1</th>\n",
       "      <td>2016</td>\n",
       "      <td>204646</td>\n",
       "      <td>25730943.59</td>\n",
       "    </tr>\n",
       "    <tr>\n",
       "      <th>2</th>\n",
       "      <td>2017</td>\n",
       "      <td>249987</td>\n",
       "      <td>31417495.03</td>\n",
       "    </tr>\n",
       "  </tbody>\n",
       "</table>\n",
       "</div>"
      ],
      "text/plain": [
       "   year  customer_nums  net_revenue\n",
       "0  2015         231294  29036749.19\n",
       "1  2016         204646  25730943.59\n",
       "2  2017         249987  31417495.03"
      ]
     },
     "execution_count": 37,
     "metadata": {},
     "output_type": "execute_result"
    }
   ],
   "source": [
    "#total customer each year\n",
    "total_cust = df.year.value_counts().to_frame().rename(columns={\"year\":\"customer_nums\"}).reset_index()\n",
    "total_cust = total_cust.sort_values(by=['index'])\n",
    "total_cust = total_cust.rename(columns={\"index\":\"year\"}).reset_index(drop=True)\n",
    "total_cust = total_cust.merge(rev_df,how='outer')\n",
    "total_cust"
   ]
  },
  {
   "cell_type": "code",
   "execution_count": 38,
   "id": "646b165d",
   "metadata": {},
   "outputs": [
    {
     "data": {
      "text/html": [
       "<div>\n",
       "<style scoped>\n",
       "    .dataframe tbody tr th:only-of-type {\n",
       "        vertical-align: middle;\n",
       "    }\n",
       "\n",
       "    .dataframe tbody tr th {\n",
       "        vertical-align: top;\n",
       "    }\n",
       "\n",
       "    .dataframe thead th {\n",
       "        text-align: right;\n",
       "    }\n",
       "</style>\n",
       "<table border=\"1\" class=\"dataframe\">\n",
       "  <thead>\n",
       "    <tr style=\"text-align: right;\">\n",
       "      <th></th>\n",
       "      <th>year</th>\n",
       "      <th>customer_nums</th>\n",
       "      <th>net_revenue</th>\n",
       "      <th>new_customer_nums</th>\n",
       "      <th>new_net_revenue</th>\n",
       "      <th>exist_customer_nums</th>\n",
       "      <th>exist_net_revenue</th>\n",
       "      <th>lost_customer_nums</th>\n",
       "      <th>lost_net_revenue</th>\n",
       "    </tr>\n",
       "  </thead>\n",
       "  <tbody>\n",
       "    <tr>\n",
       "      <th>0</th>\n",
       "      <td>2015</td>\n",
       "      <td>231294</td>\n",
       "      <td>29036749.19</td>\n",
       "      <td>0.0</td>\n",
       "      <td>0.00</td>\n",
       "      <td>0.0</td>\n",
       "      <td>0.00</td>\n",
       "      <td>0.0</td>\n",
       "      <td>0.00</td>\n",
       "    </tr>\n",
       "    <tr>\n",
       "      <th>1</th>\n",
       "      <td>2016</td>\n",
       "      <td>204646</td>\n",
       "      <td>25730943.59</td>\n",
       "      <td>145062.0</td>\n",
       "      <td>18245491.01</td>\n",
       "      <td>59584.0</td>\n",
       "      <td>7485452.58</td>\n",
       "      <td>171710.0</td>\n",
       "      <td>21571632.07</td>\n",
       "    </tr>\n",
       "    <tr>\n",
       "      <th>2</th>\n",
       "      <td>2017</td>\n",
       "      <td>249987</td>\n",
       "      <td>31417495.03</td>\n",
       "      <td>229028.0</td>\n",
       "      <td>28776235.04</td>\n",
       "      <td>20959.0</td>\n",
       "      <td>2641259.99</td>\n",
       "      <td>183687.0</td>\n",
       "      <td>23110294.94</td>\n",
       "    </tr>\n",
       "  </tbody>\n",
       "</table>\n",
       "</div>"
      ],
      "text/plain": [
       "   year  customer_nums  net_revenue  new_customer_nums  new_net_revenue  \\\n",
       "0  2015         231294  29036749.19                0.0             0.00   \n",
       "1  2016         204646  25730943.59           145062.0      18245491.01   \n",
       "2  2017         249987  31417495.03           229028.0      28776235.04   \n",
       "\n",
       "   exist_customer_nums  exist_net_revenue  lost_customer_nums  \\\n",
       "0                  0.0               0.00                 0.0   \n",
       "1              59584.0         7485452.58            171710.0   \n",
       "2              20959.0         2641259.99            183687.0   \n",
       "\n",
       "   lost_net_revenue  \n",
       "0              0.00  \n",
       "1       21571632.07  \n",
       "2       23110294.94  "
      ]
     },
     "execution_count": 38,
     "metadata": {},
     "output_type": "execute_result"
    }
   ],
   "source": [
    "#merge all the dataframe\n",
    "customer_df = total_cust.merge(new_cust,how='outer')\n",
    "customer_df = customer_df.merge(exist_cust,how='outer')\n",
    "customer_df = customer_df.merge(lost_cust,how='outer')\n",
    "customer_df = customer_df.fillna(0)\n",
    "customer_df"
   ]
  },
  {
   "cell_type": "code",
   "execution_count": 39,
   "id": "1209d538",
   "metadata": {},
   "outputs": [
    {
     "data": {
      "image/png": "[encoded data removed]",
      "text/plain": [
       "<Figure size 432x288 with 1 Axes>"
      ]
     },
     "metadata": {
      "needs_background": "light"
     },
     "output_type": "display_data"
    }
   ],
   "source": [
    "plt.bar(customer_df['year'],customer_df['customer_nums'],color='r')\n",
    "plt.bar(customer_df['year'],customer_df['new_customer_nums'],color='b')\n",
    "plt.bar(customer_df['year'],customer_df['exist_customer_nums'],color='g')\n",
    "plt.bar(customer_df['year'],customer_df['lost_customer_nums'],color='y')\n",
    "plt.xlabel(\"year\")\n",
    "plt.ylabel(\"customer numbers\")\n",
    "plt.legend([\"total customer numbers\", \"new customer numbers\", \"exist customer numbers\", \"lost customer numbers\"])\n",
    "plt.title(\"Customer numbers by status change each year\")\n",
    "plt.show()"
   ]
  },
  {
   "cell_type": "code",
   "execution_count": 40,
   "id": "4f783e82",
   "metadata": {},
   "outputs": [
    {
     "data": {
      "text/plain": [
       "<AxesSubplot:title={'center':'Customer numbers by status change each year'}, xlabel='year'>"
      ]
     },
     "execution_count": 40,
     "metadata": {},
     "output_type": "execute_result"
    },
    {
     "data": {
      "image/png": "[encoded data removed]",
      "text/plain": [
       "<Figure size 432x288 with 1 Axes>"
      ]
     },
     "metadata": {
      "needs_background": "light"
     },
     "output_type": "display_data"
    }
   ],
   "source": [
    "#customer amount each year\n",
    "customer_df[['year','customer_nums','new_customer_nums','exist_customer_nums','lost_customer_nums']].plot(\n",
    "    x='year', kind='bar', stacked=True,title='Customer numbers by status change each year')"
   ]
  },
  {
   "cell_type": "code",
   "execution_count": 41,
   "id": "4a3405d7",
   "metadata": {},
   "outputs": [
    {
     "data": {
      "text/plain": [
       "<AxesSubplot:title={'center':'Net revenue by status change each year'}, xlabel='year'>"
      ]
     },
     "execution_count": 41,
     "metadata": {},
     "output_type": "execute_result"
    },
    {
     "data": {
      "image/png": "[encoded data removed]",
      "text/plain": [
       "<Figure size 432x288 with 1 Axes>"
      ]
     },
     "metadata": {
      "needs_background": "light"
     },
     "output_type": "display_data"
    }
   ],
   "source": [
    "#net revenue each year\n",
    "customer_df[['year','net_revenue','new_net_revenue','exist_net_revenue','lost_net_revenue']].plot(\n",
    "    x='year', kind='bar', stacked=True,title='Net revenue by status change each year')"
   ]
  },
  {
   "cell_type": "markdown",
   "id": "14d060e3",
   "metadata": {},
   "source": [
    "\n",
    "* The new customers' numbers and revenue have the highest proportion and has grown from 2016 to 2017, whcih means the marketing strategy for the newcomers is on the right track and should be maintain.\n",
    "* The exist customer (the old customers) has become smaller, which means the company should focus on the old customer, deliver some old customers' discount to make them stay.\n",
    "* Lastly, the lost of the customers doesn't seem change a lot, all the company should do is decrease the proportion of this part."
   ]
  }
 ],
 "metadata": {
  "kernelspec": {
   "display_name": "Python 3",
   "language": "python",
   "name": "python3"
  },
  "language_info": {
   "codemirror_mode": {
    "name": "ipython",
    "version": 3
   },
   "file_extension": ".py",
   "mimetype": "text/x-python",
   "name": "python",
   "nbconvert_exporter": "python",
   "pygments_lexer": "ipython3",
   "version": "3.8.8"
  }
 },
 "nbformat": 4,
 "nbformat_minor": 5
}
